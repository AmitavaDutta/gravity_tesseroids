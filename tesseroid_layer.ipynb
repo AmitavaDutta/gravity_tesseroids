{
 "cells": [
  {
   "cell_type": "code",
   "execution_count": 1,
   "metadata": {},
   "outputs": [],
   "source": [
    "import boule as bl\n",
    "import ensaio\n",
    "import numpy as np\n",
    "import pandas as pd\n",
    "import pygmt\n",
    "import verde as vd\n",
    "import xarray as xr\n",
    "import harmonica as hm\n",
    "import scipy as scipy"
   ]
  },
  {
   "cell_type": "markdown",
   "metadata": {},
   "source": [
    "# Load Moho & LAB and NearestNDInterpolator Function"
   ]
  },
  {
   "cell_type": "code",
   "execution_count": 2,
   "metadata": {},
   "outputs": [
    {
     "name": "stderr",
     "output_type": "stream",
     "text": [
      "C:\\Users\\DELL\\AppData\\Local\\Temp\\ipykernel_12988\\3075723807.py:6: FutureWarning: The 'delim_whitespace' keyword in pd.read_csv is deprecated and will be removed in a future version. Use ``sep='\\s+'`` instead\n",
      "  camlab_df = pd.read_csv(camlab_file_path, delim_whitespace=True, header=None, names=['Latitude', 'Longitude', 'Depth'])\n"
     ]
    }
   ],
   "source": [
    "# Moho                     \n",
    "moho_file_path = 'moho_depth.csv'\n",
    "moho_df = pd.read_csv(moho_file_path)\n",
    "\n",
    "camlab_file_path = \"D:\\\\Amitava\\\\Projects\\\\Perple_X\\\\V2RhoT_gibbs\\\\LAB_geoid_data\\\\CAM2022_lithosphere.xyz\"\n",
    "camlab_df = pd.read_csv(camlab_file_path, delim_whitespace=True, header=None, names=['Latitude', 'Longitude', 'Depth'])"
   ]
  },
  {
   "cell_type": "code",
   "execution_count": 3,
   "metadata": {},
   "outputs": [],
   "source": [
    "moho_func = scipy.interpolate.NearestNDInterpolator(list(zip(moho_df['Latitude'], moho_df['Longitude'])), moho_df['Moho'])\n",
    "camlab_func = scipy.interpolate.NearestNDInterpolator(list(zip(camlab_df['Latitude'], camlab_df['Longitude'])), camlab_df['Depth'])\n",
    "#topo_func = scipy.interpolate.NearestNDInterpolator(list(zip(topo_df['latitude'], topo_df['longitude'])), topo_df['topography'])\n",
    "#tta_func = scipy.interpolate.NearestNDInterpolator(list(zip(tta_df['Latitude'], tta_df['Longitude'])), tta_df['TTA'])\n",
    "#geoid_func = scipy.interpolate.NearestNDInterpolator(list(zip(geoid_df['Latitude'], geoid_df['Longitude'])), geoid_df['UMG3'])"
   ]
  },
  {
   "cell_type": "markdown",
   "metadata": {},
   "source": [
    "# Load Topo, Get Moho and LAB depth"
   ]
  },
  {
   "cell_type": "code",
   "execution_count": 4,
   "metadata": {},
   "outputs": [],
   "source": [
    "#region = (west, east, south, north)\n",
    "#region = (-78, -53, -57, -20) # SA\n",
    "#region = (112, 155, -45, -10)  # Australia\n",
    "#region = (68, 98, 6, 38)  # India\n",
    "region = (-179.9, 179.9, -89.9, 89.9) # World"
   ]
  },
  {
   "cell_type": "code",
   "execution_count": 5,
   "metadata": {},
   "outputs": [],
   "source": [
    "fname = ensaio.fetch_earth_topography(version=1)\n",
    "topo = xr.load_dataarray(fname)\n",
    "\n",
    "topo = topo.sel(latitude=slice(*region[2:]), longitude=slice(*region[:2]))\n",
    "topo = topo.coarsen(latitude=2, longitude=2, boundary=\"trim\").mean()  ## Group every 2 consecutive lat,long grid cells into one\n",
    "\n",
    "ellipsoid = bl.WGS84\n",
    "\n",
    "longitude, latitude = np.meshgrid(topo.longitude, topo.latitude)\n",
    "reference = ellipsoid.geocentric_radius(latitude)\n",
    "surface = topo + reference\n",
    "sediments_depth =  xr.where(topo > 0, 2000.0, 500.0) # in m\n",
    "moho_depth = moho_func(latitude, longitude)   # in Km\n",
    "moho_depth = moho_depth * 1e3                 # in m\n",
    "lab_depth = camlab_func(latitude, longitude)  # in Km\n",
    "lab_depth = lab_depth * 1e3                   # in m"
   ]
  },
  {
   "cell_type": "markdown",
   "metadata": {},
   "source": [
    "\n",
    "# Layer of tesseroids\n"
   ]
  },
  {
   "cell_type": "code",
   "execution_count": null,
   "metadata": {},
   "outputs": [],
   "source": [
    "%%time\n",
    "# The true surface (land or seafloor): radius from Earth's center\n",
    "surface = topo + reference\n",
    "\n",
    "# Density contrasts # kg/m³\n",
    "#rho_water = 1040.0 - 3270.0     ## negative contrast removes mass   \n",
    "#rho_crust = 3270.0 - 2670.0     ## positive contrast adds mass\n",
    "#rho_mantle = 0.0                ## Reference, Density of mantle is 3270.0, so no density contrast\n",
    "# Density contrasts # kg/m³\n",
    "rho_water = 1040.0 - 1300.0     ## water contrast  \n",
    "rho_sed = 1300.0 - 2850.0       ## sediments contrast    \n",
    "rho_crust = 2850.0 - 3270.0     ## crust contrast \n",
    "rho_mantle = 3270.0                ## Reference, Density of mantle is 3270.0, so no density contrast\n",
    "\n",
    "# Water Layer (only where topo < 0)\n",
    "water_top = reference\n",
    "water_bottom = xr.where(topo < 0, reference + topo, np.nan)\n",
    "water_density = xr.where(topo < 0, rho_water, np.nan)\n",
    "tess_water = hm.tesseroid_layer(coordinates=(topo.longitude, topo.latitude),surface=water_top,reference=water_bottom,properties={\"density\": water_density})\n",
    "\n",
    "# Sediments\n",
    "# Crust Layer (land and ocean)\n",
    "sed_top = surface\n",
    "sed_bottom = sed_top - sediments_depth\n",
    "tess_crust = hm.tesseroid_layer(coordinates=(topo.longitude, topo.latitude),surface=sed_top,reference=sed_bottom,properties={\"density\": xr.full_like(topo, rho_sed)})\n",
    "\n",
    "# Crust Layer (land and ocean)\n",
    "crust_top = sed_bottom\n",
    "crust_bottom = crust_top - moho_depth\n",
    "tess_crust = hm.tesseroid_layer(coordinates=(topo.longitude, topo.latitude),surface=crust_top,reference=crust_bottom,properties={\"density\": xr.full_like(topo, rho_crust)})\n",
    "\n",
    "# Mantle Layer (Moho to LAB)\n",
    "mantle_top = crust_bottom\n",
    "mantle_bottom = mantle_top - (lab_depth - moho_depth)\n",
    "tess_mantle = hm.tesseroid_layer(coordinates=(topo.longitude, topo.latitude),surface=mantle_top,reference=mantle_bottom,properties={\"density\": xr.full_like(topo, rho_mantle)})\n",
    "\n",
    "# Create a regular grid of computation points located at 10km above reference\n",
    "grid_longitude, grid_latitude = vd.grid_coordinates(region=region, spacing=3)\n",
    "grid_radius = ellipsoid.geocentric_radius(grid_latitude) + 10e3\n",
    "grid_coords = (grid_longitude, grid_latitude, grid_radius)\n",
    "\n",
    "# Compute gravity field (vertical component)\n",
    "#gravity = tesseroids.tesseroid_layer.gravity(grid_coords, field=\"g_z\")\n",
    "gravity_w = tess_water.tesseroid_layer.gravity(grid_coords, field=\"g_z\")\n",
    "gravity_c = tess_crust.tesseroid_layer.gravity(grid_coords, field=\"g_z\")\n",
    "gravity_m = tess_mantle.tesseroid_layer.gravity(grid_coords, field=\"g_z\")\n",
    "gravity = gravity_w + gravity_c + gravity_m\n",
    "gravity = vd.make_xarray_grid(\n",
    "    grid_coords,\n",
    "    gravity,\n",
    "    data_names=\"g_z\",\n",
    "    dims=(\"latitude\", \"longitude\"),\n",
    "    extra_coords_names=\"radius\",\n",
    ")\n",
    "\n",
    "# Plot gravity map\n",
    "fig = pygmt.Figure()\n",
    "maxabs = vd.maxabs(gravity.g_z)\n",
    "pygmt.makecpt(cmap=\"polar\", series=(-maxabs, maxabs))\n",
    "fig.grdimage(\n",
    "    gravity.g_z,\n",
    "    projection=\"W25c\",\n",
    "    nan_transparent=True,\n",
    ")\n",
    "fig.basemap(frame=True)\n",
    "fig.colorbar(frame='af+l\"Gravity [mGal]\"', position=\"JCR\")\n",
    "fig.coast(shorelines=\"0.5p,black\")\n",
    "fig.show()"
   ]
  },
  {
   "cell_type": "code",
   "execution_count": null,
   "metadata": {},
   "outputs": [],
   "source": []
  }
 ],
 "metadata": {
  "kernelspec": {
   "display_name": "Python 3 (ipykernel)",
   "language": "python",
   "name": "python3"
  },
  "language_info": {
   "codemirror_mode": {
    "name": "ipython",
    "version": 3
   },
   "file_extension": ".py",
   "mimetype": "text/x-python",
   "name": "python",
   "nbconvert_exporter": "python",
   "pygments_lexer": "ipython3",
   "version": "3.13.2"
  }
 },
 "nbformat": 4,
 "nbformat_minor": 4
}
